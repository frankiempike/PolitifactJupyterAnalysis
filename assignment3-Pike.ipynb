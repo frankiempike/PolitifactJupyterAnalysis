{
 "cells": [
  {
   "cell_type": "markdown",
   "id": "1ff95f67-7e23-47c5-be3b-4f0f55d3aae2",
   "metadata": {
    "tags": []
   },
   "source": [
    "# **Assignment 3: Using Plotly's Heatmap with ipywidgets Interactivity<br>to Analyze Changes in PolitiFact Claim Sources Over Time**\n",
    "\n",
    "### Exploring PolitiFact fact checks of 21,152 statements from 2008 to 2022 using Plotly, an open-source graphing library\n",
    "#### _Frankie Pike, The University of Michigan, SIADS 521, Data Source: [Kaggle](https://www.kaggle.com/datasets/rmisra/politifact-fact-check-dataset?resource=download)_\n",
    "---"
   ]
  },
  {
   "cell_type": "markdown",
   "id": "e877859e-110e-4738-a201-acebd25e0abe",
   "metadata": {
    "tags": []
   },
   "source": [
    "## Visualization Technique\n",
    "An **interactive heatmap** is a graphical representation of data where individual or aggregate values are represented by colors. In this technique, each cell in the grid corresponds to a data point or aggregate, and its color intensity reflects the magnitude of the value. The interactive component allows users to filter by an additional data value to dynamically adjust the data being displayed, making it easier to explore and analyze patterns within the dataset. I implemented this technique by preparing the data and putting it into a Pandas DataFrame, using the Plotly Graph Objects library's go.Heatmap function to create a static heatmap, then integrating it with ipywidgets to make the chart interactive using the interactive function.\n",
    "\n",
    "Interactive heatmaps are great to use when dealing with datasets that have multiple categorical variables or dimensions (e.g., different sources, verdicts, years). They can help users drill down into specific subsets of data and easily see trends on multiple levels. There are limitations, though, so they are not a good idea if you have too many unique values in a categorical variable or if the data ranges are highly variable or skewed because it would be difficult to quickly perceive overall trends. Additionally, purely qualitative data is not a good fit.\n",
    "\n",
    "I also considered using a bar chart, which is straightforward and good for categorical data, or a bubble chart, which would add an extra dimension of information (size) to a scatter plot, but I went with an interactive heatmap because it allows clear visualization of patterns in aggregated data, which is useful for summarizing a large dataset such as this one. Additionally, a bar chart did not allow me to express all the variables I wanted to, and a bubble chart became cluttered and hard to interpret with so many data points."
   ]
  },
  {
   "cell_type": "markdown",
   "id": "434a628a-c085-44d0-804c-68ea756ef2d0",
   "metadata": {},
   "source": [
    "## Visualization Library\n",
    "In this demonstration, we're going to be using the **Plotly** and **ipywidgets** libraries, both of which are open source. Plotly was created by Plotly Inc., a company that develops interactive data visualization tools. ipywidgets was created by the IPython development team, which is part of Project Jupyter. You can install both with simple pip commands (below)."
   ]
  },
  {
   "cell_type": "code",
   "execution_count": null,
   "id": "ef685e92-990c-4945-8af3-72367c832945",
   "metadata": {},
   "outputs": [],
   "source": [
    "!pip install plotly\n",
    "!pip install ipywidgets"
   ]
  },
  {
   "cell_type": "markdown",
   "id": "2e489ffa-72a8-45e8-8ac1-205f3aeb0ab3",
   "metadata": {},
   "source": [
    "Once installed, load the libraries. From Plotly, we will need Express and Graph Objects. From ipywidgets, we will need Widgets and Interactive."
   ]
  },
  {
   "cell_type": "code",
   "execution_count": null,
   "id": "b79b4736-1160-4691-b979-580ebcb9d9eb",
   "metadata": {},
   "outputs": [],
   "source": [
    "import plotly.express as px\n",
    "import plotly.graph_objects as go\n",
    "\n",
    "import ipywidgets as widgets\n",
    "from ipywidgets import interactive"
   ]
  },
  {
   "cell_type": "markdown",
   "id": "94c03dd6-60df-470c-8304-30940710aba9",
   "metadata": {},
   "source": [
    "Plotly is primarily a declarative library. You define what you want to plot, and Plotly handles the rendering and interactions. ipywidgets, on the other hand, is a procedural library. It allows users to create interactive widgets (e.g., sliders, dropdowns) and link them to Python code. This procedural approach lets you define the interaction logic and update visualizations dynamically. Both libraries are easy to use in Jupyter. In fact, ipywidgets was specifically made for Jupyter. \n",
    "\n",
    "When choosing which visualization libraries to use, I also considered Seaborn for its ease of creating heatmaps and Bokeh for its advanced interactivity. But ultimately, I chose Plotly with ipywidgets for its seamless integration of interactive features directly within Jupyter notebooks, offering a more user-friendly and dynamic experience for exploring data. It is complicated to make Seaborn's static visualizations interactive, even integrated with other libraries, and I found Bokeh to be overly complex and difficult to implement in Jupyter."
   ]
  },
  {
   "cell_type": "markdown",
   "id": "6d3464c8-f295-4662-9312-63b9f79423ee",
   "metadata": {},
   "source": [
    "## Demonstration \n",
    "I already downloaded the data from Kaggle and imported it to the workspace. It is saved as politifact_factcheck_data.json. The first thing we need to do is import the other necessary libraries and modules."
   ]
  },
  {
   "cell_type": "code",
   "execution_count": null,
   "id": "b47ca541-2ba4-4f9a-9ce5-2d73bbb16ac1",
   "metadata": {},
   "outputs": [],
   "source": [
    "import pandas as pd\n",
    "import numpy as np\n",
    "import os"
   ]
  },
  {
   "cell_type": "markdown",
   "id": "6d2f840c-a041-4523-9780-3bf2f661028d",
   "metadata": {},
   "source": [
    "Let's read in the data to a Pandas DataFrame. While it is a JSON file, there are some anomalies in the formatting, so we'll read it as a string, fix the anomalies, then convert the fixed JSON to a DataFrame. After we do that, we'll preview it."
   ]
  },
  {
   "cell_type": "code",
   "execution_count": null,
   "id": "2bb08f03-a461-42ed-bf9b-b0c16e710455",
   "metadata": {},
   "outputs": [],
   "source": [
    "filename = 'politifact_factcheck_data.json'\n",
    "\n",
    "# Read the entire JSON file as a string\n",
    "with open(filename, 'r') as f:\n",
    "    json_str = f.read()\n",
    "\n",
    "# Replace consecutive JSON objects with comma-separated versions within square brackets\n",
    "fixed_json_str = '[' + json_str.replace('}\\n{', '},{') + ']'\n",
    "\n",
    "# Load the JSON data into a DataFrame\n",
    "df = pd.read_json(fixed_json_str)\n",
    "    \n",
    "#View DataFrame\n",
    "df.head()"
   ]
  },
  {
   "cell_type": "markdown",
   "id": "3603d02b-2fde-4910-8f7f-bacbe9327bfe",
   "metadata": {},
   "source": [
    "According to Kaggle's documentation of the dataset, each record (i.e. row) consists of 8 attributes (i.e. columns):\n",
    "\n",
    "+ **verdict:** The verdict of fact check in one of 6 categories: true, mostly-true, half-true, mostly-false, false, and pants-fire\n",
    "+ **statement_originator:** the person who made the statement being fact checked\n",
    "+ **statement:** statement being fact checked\n",
    "+ **statement_date:** the date when statement being fact checked was made\n",
    "+ **statement_source:** the source where the statement was made. It is one of 13 categories: speech, television, news, blog, social_media, advertisement, campaign, meeting, radio, email, testimony, statement, and other\n",
    "+ **factchecker:** name of the person who fact checked the claim\n",
    "+ **factcheck_date:** date when the fact checked article was published\n",
    "+ **factcheck_analysis_link:** link to the fact checked analysis article\n",
    "\n",
    "Based on this understanding, let's clean the data. We want the statement_date column to hold DateTime objects and the statement_source column to be categorical. We're also not going to need information such as the factchecker, the factcheck_date, or the factcheck_analysis_link, so we'll remove those columns because they're irrelevant and removing them will reduce the memory footprint and speed up computations."
   ]
  },
  {
   "cell_type": "code",
   "execution_count": null,
   "id": "457a197e-41f6-4622-8787-0a0f5b239cb2",
   "metadata": {},
   "outputs": [],
   "source": [
    "# Convert to datetime data type\n",
    "df = df.drop(columns=['factchecker', 'factcheck_date', 'factcheck_analysis_link'])\n",
    "df['statement_date'] = pd.to_datetime(df['statement_date'])\n",
    "df = df[df['statement_date'].dt.year >= 2008]\n",
    "df['statement_source'] = pd.Categorical(df['statement_source'])\n",
    "df.head()"
   ]
  },
  {
   "cell_type": "markdown",
   "id": "ccaa620c-38a1-4de4-bef1-bf24381a41c7",
   "metadata": {},
   "source": [
    "Before we get to the core question (and more complex implementation), let's do some brief exploratory data analysis to investigate how the amount of statements from various sources has changed over time. We can aggregate the statement counts by date and source. While these statements don't encompass every potentially false claim, the fact checking experts at PolitiFact \"select the most newsworthy and significant ones,\" according to their [website](https://www.politifact.com/article/2018/feb/12/principles-truth-o-meter-politifacts-methodology-i/). This selection process provides a meaningful representation of where the most newsworthy claims are being made.\n",
    "\n",
    "With our aggregated data, we can use Plotly Express to make a simple line chart to visualize statement counts over time from the various sources."
   ]
  },
  {
   "cell_type": "code",
   "execution_count": null,
   "id": "e6c41bb4-2926-4ac6-800b-613fe265ce18",
   "metadata": {},
   "outputs": [],
   "source": [
    "# Calculate the count of statements for each date and statement source\n",
    "df_count = df.groupby(['statement_date', 'statement_source']).size().reset_index(name='count')\n",
    "\n",
    "# Create the line plot using Plotly Express\n",
    "fig = px.line(\n",
    "    df_count,\n",
    "    x='statement_date',\n",
    "    y='count',\n",
    "    color='statement_source',\n",
    "    title='Statement Counts by Source Over Time',\n",
    "    labels={\n",
    "        'statement_date': 'Date',\n",
    "        'count': 'Count',\n",
    "        'statement_source': 'Statement Source'\n",
    "    },\n",
    "    template='plotly_white'\n",
    ")\n",
    "\n",
    "\n",
    "# Adjust layout to make the plot less wide\n",
    "fig.update_layout(\n",
    "    autosize=True,\n",
    "    margin=dict(l=40, r=40, t=40, b=40),  # Adjust margins as needed\n",
    "    width=1000,  # Adjust the width to make it less wide\n",
    "    height=400,  # Adjust the height if needed\n",
    "    legend_title_text='Statement Source'\n",
    ")\n",
    "\n",
    "# Show the plot\n",
    "fig.show()"
   ]
  },
  {
   "cell_type": "markdown",
   "id": "a88905c2-8f85-4cbd-b917-6e8d370bcf7f",
   "metadata": {},
   "source": [
    "We can see that in the early to mid 2010s, most statements were from speeches or the news, but since 2019, social media statements have dominated. There was a specific spike in November 2020, during the U.S. presidential election. Without having to specify, Plotly conveniently shows more details about each data point on hover. \n",
    "\n",
    "That's great, but what if we want a bird's eye look? It's a little hard to see changes with so many lines. We can aggregate the data by year instead and replot it for a bigger picture view."
   ]
  },
  {
   "cell_type": "code",
   "execution_count": null,
   "id": "b3e18b7b-36b3-47b7-b777-1ec11f2a1d96",
   "metadata": {},
   "outputs": [],
   "source": [
    "df_yearly = df.groupby([pd.Grouper(key='statement_date', freq='Y'), 'statement_source']).size().reset_index(name='count')\n",
    "\n",
    "# Create the line plot using Plotly Express\n",
    "fig = px.line(\n",
    "    df_yearly,\n",
    "    x='statement_date',\n",
    "    y='count',\n",
    "    color='statement_source',\n",
    "    title='Statement Counts by Source Over Time (Yearly)',\n",
    "    labels={\n",
    "        'statement_date': 'Year',\n",
    "        'count': 'Count',\n",
    "        'statement_source': 'Statement Source'\n",
    "    },\n",
    "    template='plotly_white' \n",
    ")\n",
    "\n",
    "# Adjust layout to make the plot less wide\n",
    "fig.update_layout(\n",
    "    autosize=True,\n",
    "    margin=dict(l=40, r=40, t=40, b=40),  # Adjust margins as needed\n",
    "    width=1000,  # Adjust the width to make it less wide\n",
    "    height=400,  # Adjust the height if needed\n",
    "    legend_title_text='Statement Source'\n",
    ")\n",
    "\n",
    "# Show the plot\n",
    "fig.show()"
   ]
  },
  {
   "cell_type": "markdown",
   "id": "5fedc166-698f-4df2-8fc5-6ca5bcfb507b",
   "metadata": {},
   "source": [
    "With this plot, the gradual rise in significance of social media statements as speech and the news statements declined is more evident. This chart illustrates four stages: 1) News dominated from 2010 to 2015, 2) Speeches briefly became the most common source during the 2016 Trump vs. Clinton election, 3) News regained prominence through 2017 and 2018, and 4) Social media has been the leading source since early 2019.\n",
    "\n",
    "Finally, let's get to the core of the demonstration—making the interactive heatmap. My goal when creating this chart was to answer the question: From 2008 to 2022, how did the number of newsworthy statements from each source change by year and, in the aggregate, how accurate were they?"
   ]
  },
  {
   "cell_type": "code",
   "execution_count": null,
   "id": "2b9ff586-0a7a-49d4-ab58-7168ee401579",
   "metadata": {},
   "outputs": [],
   "source": [
    "#Set verdict order from least true ('Liar, Liar, Pants on Fire') to most true ('True.')\n",
    "verdict_order = ['pants-fire', 'false', 'mostly-false', 'half-true', 'mostly-true', 'true']\n",
    "\n",
    "# Adjust DataFrame for heatmap by aggregating by year, verdict, and source\n",
    "df['statement_date_year'] = df['statement_date'].dt.to_period('Y').astype(str)\n",
    "chartdf = df.groupby(['statement_date_year', 'verdict', 'statement_source']).size().reset_index(name='count')\n",
    "\n",
    "# Create a function to plot the heatmap\n",
    "def plot_heatmap(selected_source):\n",
    "    filtered_df = chartdf[chartdf['statement_source'] == selected_source]\n",
    "    heatmap_data = filtered_df.pivot_table(\n",
    "        index='verdict',\n",
    "        columns='statement_date_year',\n",
    "        values='count',\n",
    "        fill_value=0\n",
    "    )\n",
    "    # Set the order for the y-axis\n",
    "    heatmap_data = heatmap_data.reindex(verdict_order, axis=0)\n",
    "    \n",
    "    # Create heatmap using Plotly\n",
    "    fig = go.Figure(data=go.Heatmap(\n",
    "        z=heatmap_data.values,\n",
    "        x=heatmap_data.columns,\n",
    "        y=heatmap_data.index,\n",
    "        colorscale='dense',\n",
    "        text=heatmap_data.values,\n",
    "        texttemplate=\"%{text}\",\n",
    "        textfont={\"size\":12}\n",
    "    ))\n",
    "\n",
    "    # Update layout to adjust width and height\n",
    "    fig.update_layout(\n",
    "        title=f'Heatmap for PolitiFact Claims from Source: {selected_source}',\n",
    "        xaxis_nticks=len(heatmap_data.columns),\n",
    "        yaxis_nticks=len(heatmap_data.index),\n",
    "        xaxis_title='Year',\n",
    "        yaxis_title='Verdict',\n",
    "        font=dict(family=\"Helvetica, DejaVu Sans\", size=12),\n",
    "        title_font=dict(size=20, family='Helvetica, DejaVu Sans', color='black'),\n",
    "        width=1200,  # Adjust the width as needed\n",
    "        height=600  # Adjust the height as needed\n",
    "    )\n",
    "\n",
    "    fig.show()\n",
    "\n",
    "# Create the dropdown widget\n",
    "statement_sources = chartdf['statement_source'].unique()\n",
    "source_dropdown = widgets.Dropdown(\n",
    "    options=statement_sources,\n",
    "    value=statement_sources[0],\n",
    "    description='Source:'\n",
    ")\n",
    "\n",
    "# Link the dropdown to the plotting function\n",
    "interactive_plot = interactive(plot_heatmap, selected_source=source_dropdown)\n",
    "output = interactive_plot.children[-1]\n",
    "output.layout.height = '600px'\n",
    "interactive_plot"
   ]
  }
 ],
 "metadata": {
  "kernelspec": {
   "display_name": "Python 3 (ipykernel)",
   "language": "python",
   "name": "python3"
  },
  "language_info": {
   "codemirror_mode": {
    "name": "ipython",
    "version": 3
   },
   "file_extension": ".py",
   "mimetype": "text/x-python",
   "name": "python",
   "nbconvert_exporter": "python",
   "pygments_lexer": "ipython3",
   "version": "3.9.13"
  }
 },
 "nbformat": 4,
 "nbformat_minor": 5
}
